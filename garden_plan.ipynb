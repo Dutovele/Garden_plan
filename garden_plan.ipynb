{
 "cells": [
  {
   "cell_type": "markdown",
   "metadata": {
    "collapsed": true,
    "pycharm": {
     "name": "#%% md\n"
    }
   },
   "source": [
    "# GARDEN PLAN"
   ]
  },
  {
   "cell_type": "markdown",
   "source": [
    "In this project we are given a square matrix of a garden plan. Each integer(positive, negative or zero) in the matrix represents the maintenance work the tree requires. In order to divide work more or less equally between employees the garden owner decides to divide the garden into 4 rectangular parts in such way that the total maintenance of the trees differs as little as possible from one part to another. First the path between northern and southern parts of the garden needs to be built. Then the northern part is divided into north-western (NW) and north-eastern (NE) parts by a path. Finally, the path is built to divide south-western (SW) and south-eastern (SE) parts."
   ],
   "metadata": {
    "collapsed": false,
    "pycharm": {
     "name": "#%% md\n"
    }
   }
  },
  {
   "cell_type": "markdown",
   "source": [
    "The objective is to divide the garden into rectangles in such way that the difference in total maintenance of each part is as low as possible. We need to provide the maximum difference in maintenance of the best solution, the total maintenance of each part and the coordinates of each rectangular part."
   ],
   "metadata": {
    "collapsed": false,
    "pycharm": {
     "name": "#%% md\n"
    }
   }
  },
  {
   "cell_type": "code",
   "execution_count": 24,
   "outputs": [],
   "source": [
    "# we are going to implement the solution with the help of Numpy library\n",
    "import numpy as np"
   ],
   "metadata": {
    "collapsed": false,
    "pycharm": {
     "name": "#%%\n"
    }
   }
  },
  {
   "cell_type": "code",
   "execution_count": 25,
   "outputs": [],
   "source": [
    "# We are given the matrix in which each number represents the maintenance and it´s index - the position in the garden\n",
    "garden_matrix = [[ 3,  0,  2, -8, -8],\n",
    " [ 5,  3,  2,  2,  3],\n",
    " [ 2,  5,  2,  1,  4],\n",
    " [ 3,  4, -1,  4,  2],\n",
    " [-3,  6,  2,  4,  3]]"
   ],
   "metadata": {
    "collapsed": false,
    "pycharm": {
     "name": "#%%\n"
    }
   }
  },
  {
   "cell_type": "code",
   "execution_count": 26,
   "outputs": [
    {
     "name": "stdout",
     "output_type": "stream",
     "text": [
      "<class 'numpy.ndarray'>\n"
     ]
    }
   ],
   "source": [
    "# We transform the matrix into a numpy array\n",
    "garden_matrix = np.asarray(garden_matrix)\n",
    "# we can check the type has changed\n",
    "print(type(garden_matrix))"
   ],
   "metadata": {
    "collapsed": false,
    "pycharm": {
     "name": "#%%\n"
    }
   }
  },
  {
   "cell_type": "code",
   "execution_count": 27,
   "outputs": [
    {
     "name": "stdout",
     "output_type": "stream",
     "text": [
      "The cumulative sum on the whole matrix\n",
      "[[  3   3   5  -3 -11]\n",
      " [  8  11  15   9   4]\n",
      " [ 10  18  24  19  18]\n",
      " [ 13  25  30  29  30]\n",
      " [ 10  28  35  38  42]]\n"
     ]
    }
   ],
   "source": [
    "# We calculate the cumulative sum on the whole garden_matrix\n",
    "tree_sum = garden_matrix.cumsum(0).cumsum(1)\n",
    "print(\"The cumulative sum on the whole matrix\")\n",
    "print(tree_sum)"
   ],
   "metadata": {
    "collapsed": false,
    "pycharm": {
     "name": "#%%\n"
    }
   }
  },
  {
   "cell_type": "markdown",
   "source": [
    "#### DIVIDING NORTH-SOUTH"
   ],
   "metadata": {
    "collapsed": false,
    "pycharm": {
     "name": "#%% md\n"
    }
   }
  },
  {
   "cell_type": "markdown",
   "source": [
    "In order to divide the matrix more or less equally into northern and southern parts based on the maintenance numbers we need to analise the matrix of cumulative sum. We see that total sum of all maintenance indices is equal to 42.\n",
    "In order to find the correct index for the path, we compare the maximum number, which is 42 with the values in the last column (excluding the 42 itself). [42-(-11), 42-4, 42-18, 42-30] -> [53, 38, 24, 12]. Then we take the absolute difference of those [|11-53|, |38-4|, |24-18|, |12-30|] -> [42, 34, 6, 18] Then we choose the minimum value and save its index as the division index. In our case, the min is 6 and it´s index is 2 - the last index of the northern part. So the start of the south part is at row with index 3."
   ],
   "metadata": {
    "collapsed": false,
    "pycharm": {
     "name": "#%% md\n"
    }
   }
  },
  {
   "cell_type": "code",
   "execution_count": 28,
   "outputs": [
    {
     "name": "stdout",
     "output_type": "stream",
     "text": [
      "The NS index is:  2\n"
     ]
    }
   ],
   "source": [
    "NS_division = tree_sum[-1][-1] - tree_sum[:-1, -1]\n",
    "differ = abs(tree_sum[:-1, -1]-NS_division)\n",
    "index_NS = np.argmin(differ)\n",
    "print(\"The NS index is: \", index_NS)"
   ],
   "metadata": {
    "collapsed": false,
    "pycharm": {
     "name": "#%%\n"
    }
   }
  },
  {
   "cell_type": "markdown",
   "source": [
    "### DIVIDING UPPER WEST-EAST"
   ],
   "metadata": {
    "collapsed": false,
    "pycharm": {
     "name": "#%% md\n"
    }
   }
  },
  {
   "cell_type": "markdown",
   "source": [
    "Now we need to divide the northern part into western and eastern parts. We perform same strategy but we analise the cumulative sum matrix only on the rows 0, 1, 2. But here instead of the column, we compare the last row of the northern part. [18-10, 18-18, 18-24, 18-19] -> [8, 0, -6, -1]. Now we compare [|10-8|,|18-0|,|24+6|,|19+1|] -> [2, 18, 30, 20] We take the min value of the absolute difference 2 and its index 0 is the last index of the western part of the northern half."
   ],
   "metadata": {
    "collapsed": false,
    "pycharm": {
     "name": "#%% md\n"
    }
   }
  },
  {
   "cell_type": "code",
   "execution_count": 29,
   "outputs": [
    {
     "name": "stdout",
     "output_type": "stream",
     "text": [
      "WE upper index: 0\n"
     ]
    }
   ],
   "source": [
    "WE_division_upper = tree_sum[index_NS][-1] - tree_sum[index_NS,:-1]\n",
    "index_WE_upper = np.argmin(abs(WE_division_upper-tree_sum[index_NS,:-1]))\n",
    "print(\"WE upper index:\", index_WE_upper)"
   ],
   "metadata": {
    "collapsed": false,
    "pycharm": {
     "name": "#%%\n"
    }
   }
  },
  {
   "cell_type": "markdown",
   "source": [
    "### DIVIDING LOWER WEST-EAST"
   ],
   "metadata": {
    "collapsed": false
   }
  },
  {
   "cell_type": "markdown",
   "source": [
    "In order to divide the southern part into western and eastern rectangles we need to recarlculate the cumulative sum matrix, because we only need to use the southern part. We know that southern part starts from the index index_NS+1 which is 3."
   ],
   "metadata": {
    "collapsed": false,
    "pycharm": {
     "name": "#%% md\n"
    }
   }
  },
  {
   "cell_type": "code",
   "execution_count": 30,
   "outputs": [],
   "source": [
    "tree_sum_lower = garden_matrix[index_NS+1:,:].cumsum(0).cumsum(1)"
   ],
   "metadata": {
    "collapsed": false,
    "pycharm": {
     "name": "#%%\n"
    }
   }
  },
  {
   "cell_type": "code",
   "execution_count": 31,
   "outputs": [
    {
     "name": "stdout",
     "output_type": "stream",
     "text": [
      "WE lower index: 2\n"
     ]
    }
   ],
   "source": [
    "WE_division_lower = tree_sum_lower[-1][-1] - tree_sum_lower[-1,:-1]\n",
    "index_WE_lower = np.argmin(abs(tree_sum_lower[-1,:-1]-(WE_division_lower)))\n",
    "print(\"WE lower index:\", index_WE_lower)"
   ],
   "metadata": {
    "collapsed": false,
    "pycharm": {
     "name": "#%%\n"
    }
   }
  },
  {
   "cell_type": "markdown",
   "source": [
    "### The results"
   ],
   "metadata": {
    "collapsed": false,
    "pycharm": {
     "name": "#%% md\n"
    }
   }
  },
  {
   "cell_type": "code",
   "execution_count": 32,
   "outputs": [
    {
     "name": "stdout",
     "output_type": "stream",
     "text": [
      "The sum of the top left rectangle  10\n",
      "Coordinates of the rectangle: upper-left [0, 0] upper-right [0, 0] lower-left [2, 0] lower-right [2, 0]\n"
     ]
    }
   ],
   "source": [
    "# TOP LEFT RECTANGLE\n",
    "top_left_rect = tree_sum[index_NS, index_WE_upper]\n",
    "print(\"The sum of the top left rectangle \", top_left_rect)\n",
    "print(\"Coordinates of the rectangle: upper-left\", [0, 0],\"upper-right\",[0,index_WE_upper], \"lower-left\", [index_NS, 0],\"lower-right\",[index_NS, index_WE_upper])"
   ],
   "metadata": {
    "collapsed": false,
    "pycharm": {
     "name": "#%%\n"
    }
   }
  },
  {
   "cell_type": "code",
   "execution_count": 33,
   "outputs": [
    {
     "name": "stdout",
     "output_type": "stream",
     "text": [
      "The sum of the bottom left rectangle  11\n",
      "Coordinates of the rectangle: upper-left [3, 0] upper-right [3, 2] lower-left [4, 0] lower-right [4, 2]\n"
     ]
    }
   ],
   "source": [
    "# BOTTOM LEFT RECTANGLE\n",
    "bottom_left_rect = tree_sum_lower[-1, index_WE_lower]\n",
    "print(\"The sum of the bottom left rectangle \", bottom_left_rect)\n",
    "print(\"Coordinates of the rectangle: upper-left\", [index_NS+1, 0],\"upper-right\",[index_NS+1,index_WE_lower], \"lower-left\", [len(tree_sum)-1, 0],\"lower-right\",[len(tree_sum)-1, index_WE_lower])"
   ],
   "metadata": {
    "collapsed": false,
    "pycharm": {
     "name": "#%%\n"
    }
   }
  },
  {
   "cell_type": "code",
   "execution_count": 34,
   "outputs": [
    {
     "name": "stdout",
     "output_type": "stream",
     "text": [
      "The sum of the bottom left rectangle  8\n",
      "Coordinates of the rectangle: upper-left [0, 1] upper-right [0, 4] lower-left [2, 1] lower-right [2, 4]\n"
     ]
    }
   ],
   "source": [
    "# TOP RIGHT RECTANGLE\n",
    "top_right_rect = np.sum(garden_matrix[:index_NS+1,index_WE_upper+1:])\n",
    "print(\"The sum of the bottom left rectangle \", top_right_rect)\n",
    "print(\"Coordinates of the rectangle: upper-left\", [0, index_WE_upper+1],\"upper-right\",[0,len(tree_sum)-1], \"lower-left\", [index_NS,index_WE_upper+1],\"lower-right\",[index_NS,len(tree_sum)-1 ])"
   ],
   "metadata": {
    "collapsed": false,
    "pycharm": {
     "name": "#%%\n"
    }
   }
  },
  {
   "cell_type": "code",
   "execution_count": 35,
   "outputs": [
    {
     "name": "stdout",
     "output_type": "stream",
     "text": [
      "The sum of the bottom left rectangle  13\n",
      "Coordinates of the rectangle: upper-left [3, 3] upper-right [3, 4] lower-left [4, 3] lower-right [4, 4]\n"
     ]
    }
   ],
   "source": [
    "# BOTTOM RIGHT RECTANGLE\n",
    "bottom_right_rect = np.sum(garden_matrix[index_NS+1:,index_WE_lower+1:])\n",
    "print(\"The sum of the bottom left rectangle \", bottom_right_rect)\n",
    "print(\"Coordinates of the rectangle: upper-left\", [index_NS+1, index_WE_lower+1],\"upper-right\",[index_NS+1,len(tree_sum)-1], \"lower-left\", [len(tree_sum)-1, index_WE_lower+1],\"lower-right\",[len(tree_sum)-1, len(tree_sum)-1])"
   ],
   "metadata": {
    "collapsed": false,
    "pycharm": {
     "name": "#%%\n"
    }
   }
  },
  {
   "cell_type": "markdown",
   "source": [
    "Now that we know the maintenance sum of each rectangle, we can calculate the maximum difference."
   ],
   "metadata": {
    "collapsed": false,
    "pycharm": {
     "name": "#%% md\n"
    }
   }
  },
  {
   "cell_type": "code",
   "execution_count": 36,
   "outputs": [
    {
     "name": "stdout",
     "output_type": "stream",
     "text": [
      "The maximum difference: 5\n"
     ]
    }
   ],
   "source": [
    "max_diff = max(bottom_right_rect,bottom_left_rect,top_right_rect,top_left_rect)-min(bottom_right_rect,bottom_left_rect,top_right_rect,top_left_rect)\n",
    "print(\"The maximum difference:\", max_diff)"
   ],
   "metadata": {
    "collapsed": false,
    "pycharm": {
     "name": "#%%\n"
    }
   }
  }
 ],
 "metadata": {
  "kernelspec": {
   "display_name": "Python 3",
   "language": "python",
   "name": "python3"
  },
  "language_info": {
   "codemirror_mode": {
    "name": "ipython",
    "version": 2
   },
   "file_extension": ".py",
   "mimetype": "text/x-python",
   "name": "python",
   "nbconvert_exporter": "python",
   "pygments_lexer": "ipython2",
   "version": "2.7.6"
  }
 },
 "nbformat": 4,
 "nbformat_minor": 0
}